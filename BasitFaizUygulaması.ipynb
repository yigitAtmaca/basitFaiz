{
 "cells": [
  {
   "cell_type": "markdown",
   "metadata": {},
   "source": [
    "# Basit Faiz\n",
    "\n",
    "Belirli bir Anaparanın (P), belirli bir Faiz Oranı (r) üzerinden, belirli bir Zaman (t) periyodunda, her dönem için ayrı ayrı hesaplanması sonucu elde edilen faiz basit faiz olarak adlandırılır. Yukarıdaki sembollerin kullanılması ile birlikte basit faiz formülü aşağıdaki gibi verilebilir.\n",
    "\n",
    "I = P*r*t\n",
    "\n",
    "Faiz hesaplamalarında dikkat edilecek nokta faiz oranı ve zaman periyodunun uygun hâle getirilmesidir. Örneğin anaparanın 44 hafta değerlendirilmesi durumunda, t = 44 / 52 ≌ 0.846 olarak düzenleme yapılmalıdır."
   ]
  },
  {
   "cell_type": "markdown",
   "metadata": {},
   "source": [
    "Örnek1: 8000$’lık anaparanın 2 yıl boyunca %8 basit faiz ile değerlendirilmesi sonucu elde edilecek faiz getirisini hesaplayınız."
   ]
  },
  {
   "cell_type": "code",
   "execution_count": 3,
   "metadata": {},
   "outputs": [
    {
     "name": "stdout",
     "output_type": "stream",
     "text": [
      "Ana Para : 8000\n",
      "Faiz Oranı (%) : 8\n",
      "Zaman Periyodu : 2\n",
      "Faiz Getirisi: 1280.0\n"
     ]
    }
   ],
   "source": [
    "P = float(input(\"Ana Para : \"))\n",
    "r = float(input(\"Faiz Oranı (%) : \"))\n",
    "t = float(input(\"Zaman Periyodu : \"))\n",
    "\n",
    "def basitFaizHesapla (P,r,t):\n",
    "    I = P*(r/100)*t\n",
    "    print (f\"Faiz Getirisi: {I}\")\n",
    "\n",
    "basitFaizHesapla (P,r,t)"
   ]
  },
  {
   "cell_type": "markdown",
   "metadata": {},
   "source": [
    "Örnek2: 4000$’lık borç 9 ay sonra %10 basit faiz ile geri ödenecektir. Süreç sonunda ödemeye eklenecek faiz miktarını hesaplayınız."
   ]
  },
  {
   "cell_type": "code",
   "execution_count": 14,
   "metadata": {},
   "outputs": [
    {
     "name": "stdout",
     "output_type": "stream",
     "text": [
      "Ana Para : 4000\n",
      "Faiz Oranı (%) : 10\n",
      "Zaman Periyodu : 9 ay\n",
      " Eklenecek Faiz: 300.0\n"
     ]
    }
   ],
   "source": [
    "P = float(input(\"Ana Para : \"))\n",
    "f = float(input(\"Faiz Oranı (%) : \"))\n",
    "r = f/100\n",
    "t = input(\"Zaman Periyodu : \")\n",
    "z = t.split(\" \")\n",
    "x = int(z[0])\n",
    "\n",
    "def donemliBasitFaizHesapla (P,r,t):\n",
    "    if \"ay\" in z :\n",
    "        I = P*r*(x/12)\n",
    "        print(f\" Eklenecek Faiz: {I}\")\n",
    "    elif \"hafta\" in z:\n",
    "        I = P*r*(x/52)\n",
    "        print(f\" Eklenecek Faiz: {I}\")\n",
    "    elif \"yıl\" in z:\n",
    "        I = P*r*x\n",
    "        print(f\" Eklenecek Faiz: {I}\")\n",
    "    else:\n",
    "        I = P*r*x\n",
    "        print(f\" Eklenecek Faiz: {I}\")\n",
    "\n",
    "donemliBasitFaizHesapla (P,r,t)"
   ]
  },
  {
   "cell_type": "markdown",
   "metadata": {},
   "source": [
    "Değerlendirilen Anaparayı Hesaplama\n",
    "\n",
    "Örnek3: Bir yatırımcı %8 basit faize göre 3 aylığına yatırdığı parasına 400$ faiz almıştır. Yatırımcının değerlendirdiği anapara ne kadardır?"
   ]
  },
  {
   "cell_type": "code",
   "execution_count": 12,
   "metadata": {},
   "outputs": [
    {
     "name": "stdout",
     "output_type": "stream",
     "text": [
      "Faiz Miktarı : 400\n",
      "Faiz Oranı (%) : 8\n",
      "Zaman Periyodu : 3 ay\n",
      " Değerlendirilen Anapara: 20000.0\n"
     ]
    }
   ],
   "source": [
    "I = float(input(\"Faiz Miktarı : \"))\n",
    "f = float(input(\"Faiz Oranı (%) : \"))\n",
    "r = f/100\n",
    "t = input(\"Zaman Periyodu : \")\n",
    "z = t.split(\" \")\n",
    "x = int(z[0])\n",
    "\n",
    "def donemliAnaparaHesapla (I,r,t):\n",
    "    if \"ay\" in z :\n",
    "        P = I / (r*(x/12))\n",
    "        print(f\" Değerlendirilen Anapara: {P}\")\n",
    "    elif \"hafta\" in z:\n",
    "        P = I / (r*(x/52))\n",
    "        print(f\" Değerlendirilen Anapara: {P}\")\n",
    "    elif \"yıl\" in z:\n",
    "        P = I / (r*x)\n",
    "        print(f\" Değerlendirilen Anapara: {P}\")\n",
    "    else:\n",
    "        P = I / (r*x)\n",
    "        print(f\" Değerlendirilen Anapara: {P}\")\n",
    "\n",
    "donemliAnaparaHesapla (I,r,t)"
   ]
  },
  {
   "cell_type": "markdown",
   "metadata": {},
   "source": [
    "BASİT FAİZ İLE ANAPARANIN GEÇMİŞ VE GELECEK DEĞERİNİ HESAPLAMA \n",
    "\n",
    "Paranın gelecekteki değeri için (S) sembolünü kullanılması halinde bir yatırımın gelecekteki değeri, S = P + I veya S = P(1+r*t) formülü ile hesaplanır. Benzer bir biçimde yatırımın geçmişteki değeri tersine P = S - I bağıntısı ile hesaplanır.\n",
    "\n",
    "\n",
    "İLK VE SON MİKTARI BİLİNEN ANAPARANIN SÜREÇ YILINI HESAPLAMA\n",
    "S = P(1+r*t) olduğuna göre t = ((S/P)-1)/r olur.\n",
    "\n",
    "\n",
    "Örnek4: 1200 dolar tutarındaki bir anapara yüzde 12 basit faiz altında bankaya yatırılmıştır. Kaç yıl sonra yatırılan anapara 1800 dolar miktarına ulaşır?"
   ]
  },
  {
   "cell_type": "code",
   "execution_count": 16,
   "metadata": {},
   "outputs": [
    {
     "name": "stdout",
     "output_type": "stream",
     "text": [
      "İlk Ana Para Miktarı: 1200\n",
      "Faiz Oranı (%) : 12\n",
      "Son Ana Para Miktarı: 1800\n",
      " Süreç Yılı: 4.166666666666667 yıl\n"
     ]
    }
   ],
   "source": [
    "P = float(input(\"İlk Ana Para Miktarı: \"))\n",
    "f = float(input(\"Faiz Oranı (%) : \"))\n",
    "r = f/100\n",
    "S = float(input(\"Son Ana Para Miktarı: \"))\n",
    "\n",
    "\n",
    "def surecYiliHesapla (P,S,r):\n",
    "    t = ((S/P)-1)/r\n",
    "    print(f\" Süreç Yılı: {t} yıl\")\n",
    "\n",
    "surecYiliHesapla (P,S,r)"
   ]
  },
  {
   "cell_type": "code",
   "execution_count": null,
   "metadata": {},
   "outputs": [],
   "source": []
  }
 ],
 "metadata": {
  "kernelspec": {
   "display_name": "Python 3",
   "language": "python",
   "name": "python3"
  },
  "language_info": {
   "codemirror_mode": {
    "name": "ipython",
    "version": 3
   },
   "file_extension": ".py",
   "mimetype": "text/x-python",
   "name": "python",
   "nbconvert_exporter": "python",
   "pygments_lexer": "ipython3",
   "version": "3.8.5"
  }
 },
 "nbformat": 4,
 "nbformat_minor": 4
}
